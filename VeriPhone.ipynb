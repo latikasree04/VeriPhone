{
 "cells": [
  {
   "cell_type": "code",
   "execution_count": 1,
   "id": "cc2ba888",
   "metadata": {},
   "outputs": [],
   "source": [
    "from qiskit import *\n",
    "import matplotlib.pyplot as plt\n",
    "import numpy as np\n",
    "import qiskit as q\n",
    "from qiskit.tools.visualization import plot_bloch_multivector\n",
    "from qiskit.visualization import plot_histogram\n",
    "from matplotlib import style"
   ]
  },
  {
   "cell_type": "code",
   "execution_count": 2,
   "id": "5811f6e7",
   "metadata": {},
   "outputs": [
    {
     "data": {
      "text/html": [
       "<pre style=\"word-wrap: normal;white-space: pre;background: #fff0;line-height: 1.1;font-family: &quot;Courier New&quot;,Courier,monospace\">        \n",
       "q_0: ─■─\n",
       "      │ \n",
       "q_1: ─┼─\n",
       "      │ \n",
       "q_2: ─■─\n",
       "        </pre>"
      ],
      "text/plain": [
       "        \n",
       "q_0: ─■─\n",
       "      │ \n",
       "q_1: ─┼─\n",
       "      │ \n",
       "q_2: ─■─\n",
       "        "
      ]
     },
     "execution_count": 2,
     "metadata": {},
     "output_type": "execute_result"
    }
   ],
   "source": [
    "oracle = QuantumCircuit(3,name = 'oracle')\n",
    "oracle.cz(0,2)\n",
    "oracle.to_gate()\n",
    "oracle.draw()"
   ]
  },
  {
   "cell_type": "code",
   "execution_count": 3,
   "id": "d4f33f0b",
   "metadata": {},
   "outputs": [
    {
     "data": {
      "text/html": [
       "<pre style=\"word-wrap: normal;white-space: pre;background: #fff0;line-height: 1.1;font-family: &quot;Courier New&quot;,Courier,monospace\">     ┌───┐┌─────────┐\n",
       "q_0: ┤ H ├┤0        ├\n",
       "     ├───┤│         │\n",
       "q_1: ┤ H ├┤1 oracle ├\n",
       "     ├───┤│         │\n",
       "q_2: ┤ H ├┤2        ├\n",
       "     └───┘└─────────┘\n",
       "c: 3/════════════════\n",
       "                     </pre>"
      ],
      "text/plain": [
       "     ┌───┐┌─────────┐\n",
       "q_0: ┤ H ├┤0        ├\n",
       "     ├───┤│         │\n",
       "q_1: ┤ H ├┤1 oracle ├\n",
       "     ├───┤│         │\n",
       "q_2: ┤ H ├┤2        ├\n",
       "     └───┘└─────────┘\n",
       "c: 3/════════════════\n",
       "                     "
      ]
     },
     "execution_count": 3,
     "metadata": {},
     "output_type": "execute_result"
    }
   ],
   "source": [
    "backend = Aer.get_backend('statevector_simulator')\n",
    "grover_circ = QuantumCircuit(3,3)\n",
    "grover_circ.h([0,1,2])\n",
    "grover_circ.append(oracle,[0,1,2])\n",
    "grover_circ.draw()"
   ]
  },
  {
   "cell_type": "code",
   "execution_count": 4,
   "id": "1df4fa83",
   "metadata": {},
   "outputs": [
    {
     "data": {
      "text/plain": [
       "array([ 0.35+0.j,  0.35+0.j,  0.35+0.j,  0.35+0.j,  0.35+0.j, -0.35+0.j,\n",
       "        0.35+0.j, -0.35+0.j])"
      ]
     },
     "execution_count": 4,
     "metadata": {},
     "output_type": "execute_result"
    }
   ],
   "source": [
    " job = execute(grover_circ,backend)\n",
    "result = job.result()\n",
    "sv = result.get_statevector()\n",
    "np.around(sv,2)"
   ]
  },
  {
   "cell_type": "code",
   "execution_count": 14,
   "id": "4c63c86d",
   "metadata": {},
   "outputs": [
    {
     "data": {
      "text/plain": [
       "Instruction(name='reflection', num_qubits=3, num_clbits=0, params=[])"
      ]
     },
     "execution_count": 14,
     "metadata": {},
     "output_type": "execute_result"
    }
   ],
   "source": [
    "reflection = QuantumCircuit(3, name = 'reflection')\n",
    "reflection.h([0,1,2])\n",
    "reflection.z([0,1,2])\n",
    "#reflection.z([1,2])\n",
    "reflection.cz(0,1)\n",
    "reflection.cz(1,2)\n",
    "reflection.h([0,1,2])\n",
    "#reflection.h([1,2])\n",
    "reflection.to_gate()"
   ]
  },
  {
   "cell_type": "code",
   "execution_count": 15,
   "id": "9f557cfc",
   "metadata": {},
   "outputs": [
    {
     "data": {
      "text/html": [
       "<pre style=\"word-wrap: normal;white-space: pre;background: #fff0;line-height: 1.1;font-family: &quot;Courier New&quot;,Courier,monospace\">     ┌───┐┌───┐   ┌───┐     \n",
       "q_0: ┤ H ├┤ Z ├─■─┤ H ├─────\n",
       "     ├───┤├───┤ │ └───┘┌───┐\n",
       "q_1: ┤ H ├┤ Z ├─■───■──┤ H ├\n",
       "     ├───┤├───┤     │  ├───┤\n",
       "q_2: ┤ H ├┤ Z ├─────■──┤ H ├\n",
       "     └───┘└───┘        └───┘</pre>"
      ],
      "text/plain": [
       "     ┌───┐┌───┐   ┌───┐     \n",
       "q_0: ┤ H ├┤ Z ├─■─┤ H ├─────\n",
       "     ├───┤├───┤ │ └───┘┌───┐\n",
       "q_1: ┤ H ├┤ Z ├─■───■──┤ H ├\n",
       "     ├───┤├───┤     │  ├───┤\n",
       "q_2: ┤ H ├┤ Z ├─────■──┤ H ├\n",
       "     └───┘└───┘        └───┘"
      ]
     },
     "execution_count": 15,
     "metadata": {},
     "output_type": "execute_result"
    }
   ],
   "source": [
    "reflection.draw()"
   ]
  },
  {
   "cell_type": "code",
   "execution_count": 39,
   "id": "034c9045",
   "metadata": {},
   "outputs": [
    {
     "name": "stdout",
     "output_type": "stream",
     "text": [
      "     \n",
      "q_0: \n",
      "     \n",
      "q_1: \n",
      "     \n",
      "q_2: \n",
      "     \n",
      "c: 3/\n",
      "     \n",
      "     ┌───┐                                  ┌─────────┐┌─────────────┐┌─┐      »\n",
      "q_0: ┤ H ├──■───────────────────────────────┤0        ├┤0            ├┤M├──────»\n",
      "     ├───┤  │                               │         ││             │└╥┘┌─┐   »\n",
      "q_1: ┤ H ├──■───────────────────────────────┤1 oracle ├┤1 reflection ├─╫─┤M├───»\n",
      "     └───┘┌─┴─┐┌─────────┐┌───────┐┌───────┐│         ││             │ ║ └╥┘┌─┐»\n",
      "q_2: ─────┤ X ├┤ Rx(π/4) ├┤ Rz(π) ├┤ Ry(π) ├┤2        ├┤2            ├─╫──╫─┤M├»\n",
      "          └───┘└─────────┘└───────┘└───────┘└─────────┘└─────────────┘ ║  ║ └╥┘»\n",
      "c: 3/══════════════════════════════════════════════════════════════════╩══╩══╩═»\n",
      "                                                                       0  1  2 »\n",
      "«        \n",
      "«q_0: ───\n",
      "«     ┌─┐\n",
      "«q_1: ┤M├\n",
      "«     └╥┘\n",
      "«q_2: ─╫─\n",
      "«      ║ \n",
      "«c: 3/═╩═\n",
      "«      1 \n"
     ]
    }
   ],
   "source": [
    "import math\n",
    "\n",
    "backend = Aer.get_backend('qasm_simulator')\n",
    "grover_circ = QuantumCircuit(3,3)\n",
    "print(grover_circ)\n",
    "grover_circ.h([0,1])\n",
    "#grover_circ.h([1,2])\n",
    "grover_circ.ccx(0,1,2)\n",
    "grover_circ.rx(math.pi/4, 2)\n",
    "grover_circ.rz(math.pi, 2)\n",
    "grover_circ.ry(math.pi, 2)\n",
    "\n",
    "\n",
    "\n",
    "#statevec = do_job(grover_circ)\n",
    "#statevec = do_job1(grover_circ)\n",
    "#plot_bloch_multivector(statevec)\n",
    "grover_circ.append(oracle,[0,1,2])\n",
    "grover_circ.append(reflection,[0,1,2])\n",
    "grover_circ.measure([0,1],[0,1])\n",
    "grover_circ.measure([1,2],[1,2])\n",
    "print(grover_circ)"
   ]
  },
  {
   "cell_type": "code",
   "execution_count": 50,
   "id": "5877b88c",
   "metadata": {
    "scrolled": true
   },
   "outputs": [
    {
     "data": {
      "image/png": "[encoded data removed]",
      "text/plain": [
       "<Figure size 504x360 with 1 Axes>"
      ]
     },
     "execution_count": 50,
     "metadata": {},
     "output_type": "execute_result"
    }
   ],
   "source": [
    "import qiskit as q\n",
    "from qiskit.tools.visualization import plot_bloch_multivector\n",
    "from qiskit.visualization import plot_histogram\n",
    "from matplotlib import style\n",
    "\n",
    "job = execute(grover_circ, backend, shots = 30)\n",
    "result = job.result()\n",
    "\n",
    "#print(result)\n",
    "\n",
    "counts = result.get_counts()\n",
    "plot_histogram([counts], legend = ['output'])"
   ]
  },
  {
   "cell_type": "code",
   "execution_count": null,
   "id": "b2eacbe9",
   "metadata": {},
   "outputs": [],
   "source": []
  }
 ],
 "metadata": {
  "kernelspec": {
   "display_name": "Python 3 (ipykernel)",
   "language": "python",
   "name": "python3"
  },
  "language_info": {
   "codemirror_mode": {
    "name": "ipython",
    "version": 3
   },
   "file_extension": ".py",
   "mimetype": "text/x-python",
   "name": "python",
   "nbconvert_exporter": "python",
   "pygments_lexer": "ipython3",
   "version": "3.9.12"
  }
 },
 "nbformat": 4,
 "nbformat_minor": 5
}
